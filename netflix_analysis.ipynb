{
 "cells": [
  {
   "cell_type": "code",
   "execution_count": 9,
   "metadata": {},
   "outputs": [],
   "source": [
    "import pandas as pd\n",
    "\n",
    "# Load fresh data again\n",
    "df = pd.read_csv(\"netflix1.csv\")\n",
    "\n",
    "# Normalize titles: strip spaces and convert to lowercase\n",
    "df['title'] = df['title'].str.strip().str.lower()\n",
    "\n"
   ]
  },
  {
   "cell_type": "code",
   "execution_count": 10,
   "metadata": {},
   "outputs": [
    {
     "name": "stdout",
     "output_type": "stream",
     "text": [
      "Titles with duplicates:\n",
      " title_clean\n",
      "esperando la carroza        2\n",
      "9-feb                       2\n",
      "fullmetal alchemist         2\n",
      "consequences                2\n",
      "15-aug                      2\n",
      "death note                  2\n",
      "sin senos sí hay paraíso    2\n",
      "love in a puff              2\n",
      "22-jul                      2\n",
      "Name: count, dtype: int64\n",
      "\n",
      "Full rows with duplicate titles:\n",
      "                          title            director        country\n",
      "220             love in a puff      Pang Ho-cheung      Hong Kong\n",
      "393                      9-feb           Not Given       Pakistan\n",
      "415       esperando la carroza     Alejandro Doria      Argentina\n",
      "537                      9-feb           Not Given       Pakistan\n",
      "2590              consequences        Ozan Açıktan         Turkey\n",
      "2925                    15-aug  Swapnaneel Jayakar          India\n",
      "3285                    22-jul     Paul Greengrass         Norway\n",
      "3637       fullmetal alchemist       Fumihiko Sori          Japan\n",
      "3819                death note        Adam Wingard  United States\n",
      "4260                    22-jul     Paul Greengrass         Norway\n",
      "4261                    15-aug  Swapnaneel Jayakar          India\n",
      "4718              consequences        Ozan Açıktan         Turkey\n",
      "4856      esperando la carroza     Alejandro Doria      Argentina\n",
      "5361            love in a puff      Pang Ho-cheung      Hong Kong\n",
      "6854  sin senos sí hay paraíso           Not Given  United States\n",
      "8061       fullmetal alchemist           Not Given          Japan\n",
      "8260                death note           Not Given          Japan\n",
      "8667  sin senos sí hay paraíso           Not Given  United States\n"
     ]
    }
   ],
   "source": [
    "# Step 1: Clean the title column (if not already done)\n",
    "df['title_clean'] = df['title'].str.strip().str.lower()\n",
    "\n",
    "# Step 2: Count each title\n",
    "title_counts = df['title_clean'].value_counts()\n",
    "\n",
    "# Step 3: Filter titles that appear more than once\n",
    "duplicates = title_counts[title_counts > 1]\n",
    "print(\"Titles with duplicates:\\n\", duplicates)\n",
    "\n",
    "# Step 4: Show full rows for those duplicate titles (optional)\n",
    "duplicate_rows = df[df['title_clean'].isin(duplicates.index)]\n",
    "print(\"\\nFull rows with duplicate titles:\\n\", duplicate_rows[['title', 'director', 'country']])\n",
    "\n"
   ]
  },
  {
   "cell_type": "markdown",
   "metadata": {},
   "source": [
    "standardize the date_added column format "
   ]
  },
  {
   "cell_type": "code",
   "execution_count": 11,
   "metadata": {},
   "outputs": [
    {
     "name": "stdout",
     "output_type": "stream",
     "text": [
      "                               title  date_added\n",
      "0               dick johnson is dead  25-09-2021\n",
      "1                          ganglands  24-09-2021\n",
      "2                      midnight mass  24-09-2021\n",
      "3   confessions of an invisible girl  22-09-2021\n",
      "4                            sankofa  24-09-2021\n",
      "5      the great british baking show  24-09-2021\n",
      "6                       the starling  24-09-2021\n",
      "7    motu patlu in the game of zones  01-05-2021\n",
      "8                       je suis karl  23-09-2021\n",
      "9           motu patlu in wonderland  01-05-2021\n",
      "10    motu patlu: deep sea adventure  01-05-2021\n",
      "11          motu patlu: mission moon  01-05-2021\n",
      "12                  99 songs (tamil)  21-05-2021\n",
      "13       bridgerton - the afterparty  13-07-2021\n",
      "14     bling empire - the afterparty  12-06-2021\n"
     ]
    },
    {
     "name": "stderr",
     "output_type": "stream",
     "text": [
      "/var/folders/l3/6_1d03v13r3423dpvq4sswyw0000gn/T/ipykernel_1545/3149749445.py:2: UserWarning: Parsing dates in %m/%d/%Y format when dayfirst=True was specified. Pass `dayfirst=False` or specify a format to silence this warning.\n",
      "  df['date_added'] = pd.to_datetime(df['date_added'], dayfirst=True, errors='coerce')\n"
     ]
    }
   ],
   "source": [
    "# Step 1: Convert to datetime with dayfirst=True to treat 05/01/21 as 5th Jan 2021\n",
    "df['date_added'] = pd.to_datetime(df['date_added'], dayfirst=True, errors='coerce')\n",
    "\n",
    "# Step 2: Convert to desired format dd-mm-yyyy\n",
    "df['date_added'] = df['date_added'].dt.strftime('%d-%m-%Y')\n",
    "\n",
    "# Optional: Check output\n",
    "print(df[['title', 'date_added']].head(15))\n",
    "\n"
   ]
  },
  {
   "cell_type": "markdown",
   "metadata": {},
   "source": [
    "Add year_added from date_added:"
   ]
  },
  {
   "cell_type": "code",
   "execution_count": 12,
   "metadata": {},
   "outputs": [],
   "source": [
    "# Ensure date_added is in datetime format\n",
    "df['date_added'] = pd.to_datetime(df['date_added'], format='%d-%m-%Y', errors='coerce')\n",
    "\n",
    "# Extract the year\n",
    "df['year_added'] = df['date_added'].dt.year\n",
    "\n"
   ]
  },
  {
   "cell_type": "code",
   "execution_count": 13,
   "metadata": {},
   "outputs": [
    {
     "data": {
      "text/html": [
       "<div>\n",
       "<style scoped>\n",
       "    .dataframe tbody tr th:only-of-type {\n",
       "        vertical-align: middle;\n",
       "    }\n",
       "\n",
       "    .dataframe tbody tr th {\n",
       "        vertical-align: top;\n",
       "    }\n",
       "\n",
       "    .dataframe thead th {\n",
       "        text-align: right;\n",
       "    }\n",
       "</style>\n",
       "<table border=\"1\" class=\"dataframe\">\n",
       "  <thead>\n",
       "    <tr style=\"text-align: right;\">\n",
       "      <th></th>\n",
       "      <th>duration</th>\n",
       "      <th>duration_int</th>\n",
       "      <th>duration_type</th>\n",
       "    </tr>\n",
       "  </thead>\n",
       "  <tbody>\n",
       "    <tr>\n",
       "      <th>0</th>\n",
       "      <td>90 min</td>\n",
       "      <td>90.0</td>\n",
       "      <td>min</td>\n",
       "    </tr>\n",
       "    <tr>\n",
       "      <th>1</th>\n",
       "      <td>1 Season</td>\n",
       "      <td>1.0</td>\n",
       "      <td>Season</td>\n",
       "    </tr>\n",
       "    <tr>\n",
       "      <th>2</th>\n",
       "      <td>1 Season</td>\n",
       "      <td>1.0</td>\n",
       "      <td>Season</td>\n",
       "    </tr>\n",
       "    <tr>\n",
       "      <th>3</th>\n",
       "      <td>91 min</td>\n",
       "      <td>91.0</td>\n",
       "      <td>min</td>\n",
       "    </tr>\n",
       "    <tr>\n",
       "      <th>4</th>\n",
       "      <td>125 min</td>\n",
       "      <td>125.0</td>\n",
       "      <td>min</td>\n",
       "    </tr>\n",
       "  </tbody>\n",
       "</table>\n",
       "</div>"
      ],
      "text/plain": [
       "   duration  duration_int duration_type\n",
       "0    90 min          90.0           min\n",
       "1  1 Season           1.0        Season\n",
       "2  1 Season           1.0        Season\n",
       "3    91 min          91.0           min\n",
       "4   125 min         125.0           min"
      ]
     },
     "execution_count": 13,
     "metadata": {},
     "output_type": "execute_result"
    }
   ],
   "source": [
    "# Step 9: Clean 'duration' column\n",
    "df[['duration_int', 'duration_type']] = df['duration'].str.extract(r'(\\d+)\\s*(\\w+)')\n",
    "df['duration_int'] = df['duration_int'].astype('float')  \n",
    "\n",
    "# Convert to numeric\n",
    "df[['duration', 'duration_int', 'duration_type']].head()\n"
   ]
  },
  {
   "cell_type": "code",
   "execution_count": 14,
   "metadata": {},
   "outputs": [],
   "source": [
    "# Drop 'title_clean' if no longer needed\n",
    "df.drop(columns=['title_clean'], inplace=True)\n",
    "\n"
   ]
  },
  {
   "cell_type": "code",
   "execution_count": 15,
   "metadata": {},
   "outputs": [
    {
     "name": "stdout",
     "output_type": "stream",
     "text": [
      "Final shape after duplicate removal: (8781, 13)\n"
     ]
    }
   ],
   "source": [
    "# Step 1: Strip and lower the original title column directly\n",
    "df['title'] = df['title'].str.strip().str.lower()\n",
    "\n",
    "# Step 2: Drop duplicates based on cleaned title\n",
    "df = df.drop_duplicates(subset='title', keep='first')\n",
    "\n",
    "# Step 3: Check new shape (should be 8782 if working correctly)\n",
    "print(\"Final shape after duplicate removal:\", df.shape)\n",
    "\n",
    "# Step 4: Export cleaned CSV\n",
    "df.to_csv(\"netflix_cleaned_final.csv\", index=False)\n"
   ]
  },
  {
   "cell_type": "code",
   "execution_count": 16,
   "metadata": {},
   "outputs": [],
   "source": [
    "# Save to CSV with the new column\n",
    "df.to_csv(\"netflix_cleaned_with_year.csv\", index=False)"
   ]
  },
  {
   "cell_type": "markdown",
   "metadata": {},
   "source": [
    "## Yearly Trend (How content grew over the years)"
   ]
  },
  {
   "cell_type": "code",
   "execution_count": null,
   "metadata": {},
   "outputs": [
    {
     "data": {
      "text/plain": [
       "release_year\n",
       "1925       1\n",
       "1942       2\n",
       "1943       3\n",
       "1944       3\n",
       "1945       4\n",
       "        ... \n",
       "2017    1030\n",
       "2018    1146\n",
       "2019    1030\n",
       "2020     953\n",
       "2021     592\n",
       "Name: count, Length: 74, dtype: int64"
      ]
     },
     "execution_count": 59,
     "metadata": {},
     "output_type": "execute_result"
    }
   ],
   "source": [
    "df['release_year'].value_counts().sort_index(ascending=True)"
   ]
  },
  {
   "cell_type": "markdown",
   "metadata": {},
   "source": [
    "## Top Contributing Countries"
   ]
  },
  {
   "cell_type": "markdown",
   "metadata": {},
   "source": []
  },
  {
   "cell_type": "code",
   "execution_count": null,
   "metadata": {},
   "outputs": [
    {
     "data": {
      "text/plain": [
       "country\n",
       "United States     3240\n",
       "India             1057\n",
       "United Kingdom     638\n",
       "Pakistan           421\n",
       "Not Given          287\n",
       "Canada             271\n",
       "Japan              259\n",
       "South Korea        214\n",
       "France             213\n",
       "Spain              182\n",
       "Name: count, dtype: int64"
      ]
     },
     "execution_count": 60,
     "metadata": {},
     "output_type": "execute_result"
    }
   ],
   "source": [
    "# Split multiple countries, explode into separate rows, then count\n",
    "df['country'] = df['country'].fillna('Unknown')\n",
    "df_countries = df.assign(country=df['country'].str.split(', ')).explode('country')\n",
    "top_countries = df_countries['country'].value_counts().head(10)\n",
    "top_countries"
   ]
  },
  {
   "cell_type": "markdown",
   "metadata": {},
   "source": [
    "## Split duration into two new columns"
   ]
  },
  {
   "cell_type": "code",
   "execution_count": null,
   "metadata": {},
   "outputs": [],
   "source": []
  },
  {
   "cell_type": "markdown",
   "metadata": {},
   "source": [
    "## ##  Top 10 Longest Movies on Netflix"
   ]
  },
  {
   "cell_type": "markdown",
   "metadata": {},
   "source": []
  },
  {
   "cell_type": "code",
   "execution_count": null,
   "metadata": {},
   "outputs": [
    {
     "data": {
      "text/html": [
       "<div>\n",
       "<style scoped>\n",
       "    .dataframe tbody tr th:only-of-type {\n",
       "        vertical-align: middle;\n",
       "    }\n",
       "\n",
       "    .dataframe tbody tr th {\n",
       "        vertical-align: top;\n",
       "    }\n",
       "\n",
       "    .dataframe thead th {\n",
       "        text-align: right;\n",
       "    }\n",
       "</style>\n",
       "<table border=\"1\" class=\"dataframe\">\n",
       "  <thead>\n",
       "    <tr style=\"text-align: right;\">\n",
       "      <th></th>\n",
       "      <th>title</th>\n",
       "      <th>duration_int</th>\n",
       "    </tr>\n",
       "  </thead>\n",
       "  <tbody>\n",
       "    <tr>\n",
       "      <th>7822</th>\n",
       "      <td>black mirror: bandersnatch</td>\n",
       "      <td>312.0</td>\n",
       "    </tr>\n",
       "    <tr>\n",
       "      <th>151</th>\n",
       "      <td>headspace: unwind your mind</td>\n",
       "      <td>273.0</td>\n",
       "    </tr>\n",
       "    <tr>\n",
       "      <th>2020</th>\n",
       "      <td>the school of mischief</td>\n",
       "      <td>253.0</td>\n",
       "    </tr>\n",
       "    <tr>\n",
       "      <th>2018</th>\n",
       "      <td>no longer kids</td>\n",
       "      <td>237.0</td>\n",
       "    </tr>\n",
       "    <tr>\n",
       "      <th>2009</th>\n",
       "      <td>lock your girls in</td>\n",
       "      <td>233.0</td>\n",
       "    </tr>\n",
       "    <tr>\n",
       "      <th>2017</th>\n",
       "      <td>raya and sakina</td>\n",
       "      <td>230.0</td>\n",
       "    </tr>\n",
       "    <tr>\n",
       "      <th>227</th>\n",
       "      <td>once upon a time in america</td>\n",
       "      <td>229.0</td>\n",
       "    </tr>\n",
       "    <tr>\n",
       "      <th>5814</th>\n",
       "      <td>sangam</td>\n",
       "      <td>228.0</td>\n",
       "    </tr>\n",
       "    <tr>\n",
       "      <th>1035</th>\n",
       "      <td>lagaan</td>\n",
       "      <td>224.0</td>\n",
       "    </tr>\n",
       "    <tr>\n",
       "      <th>3322</th>\n",
       "      <td>jodhaa akbar</td>\n",
       "      <td>214.0</td>\n",
       "    </tr>\n",
       "  </tbody>\n",
       "</table>\n",
       "</div>"
      ],
      "text/plain": [
       "                            title  duration_int\n",
       "7822   black mirror: bandersnatch         312.0\n",
       "151   headspace: unwind your mind         273.0\n",
       "2020       the school of mischief         253.0\n",
       "2018               no longer kids         237.0\n",
       "2009           lock your girls in         233.0\n",
       "2017              raya and sakina         230.0\n",
       "227   once upon a time in america         229.0\n",
       "5814                       sangam         228.0\n",
       "1035                       lagaan         224.0\n",
       "3322                 jodhaa akbar         214.0"
      ]
     },
     "execution_count": 61,
     "metadata": {},
     "output_type": "execute_result"
    }
   ],
   "source": [
    "df[df['duration_type'] == 'min'].sort_values(by='duration_int', ascending=False)[['title', 'duration_int']].head(10)\n"
   ]
  },
  {
   "cell_type": "markdown",
   "metadata": {},
   "source": [
    "## Top 10 TV Shows with Most Seasons"
   ]
  },
  {
   "cell_type": "code",
   "execution_count": null,
   "metadata": {},
   "outputs": [
    {
     "data": {
      "text/html": [
       "<div>\n",
       "<style scoped>\n",
       "    .dataframe tbody tr th:only-of-type {\n",
       "        vertical-align: middle;\n",
       "    }\n",
       "\n",
       "    .dataframe tbody tr th {\n",
       "        vertical-align: top;\n",
       "    }\n",
       "\n",
       "    .dataframe thead th {\n",
       "        text-align: right;\n",
       "    }\n",
       "</style>\n",
       "<table border=\"1\" class=\"dataframe\">\n",
       "  <thead>\n",
       "    <tr style=\"text-align: right;\">\n",
       "      <th></th>\n",
       "      <th>title</th>\n",
       "      <th>duration_int</th>\n",
       "    </tr>\n",
       "  </thead>\n",
       "  <tbody>\n",
       "    <tr>\n",
       "      <th>6697</th>\n",
       "      <td>grey's anatomy</td>\n",
       "      <td>17.0</td>\n",
       "    </tr>\n",
       "    <tr>\n",
       "      <th>7987</th>\n",
       "      <td>ncis</td>\n",
       "      <td>15.0</td>\n",
       "    </tr>\n",
       "    <tr>\n",
       "      <th>1971</th>\n",
       "      <td>supernatural</td>\n",
       "      <td>15.0</td>\n",
       "    </tr>\n",
       "    <tr>\n",
       "      <th>6884</th>\n",
       "      <td>heartland</td>\n",
       "      <td>13.0</td>\n",
       "    </tr>\n",
       "    <tr>\n",
       "      <th>7816</th>\n",
       "      <td>comedians of the world</td>\n",
       "      <td>13.0</td>\n",
       "    </tr>\n",
       "    <tr>\n",
       "      <th>8164</th>\n",
       "      <td>criminal minds</td>\n",
       "      <td>12.0</td>\n",
       "    </tr>\n",
       "    <tr>\n",
       "      <th>8024</th>\n",
       "      <td>trailer park boys</td>\n",
       "      <td>12.0</td>\n",
       "    </tr>\n",
       "    <tr>\n",
       "      <th>8391</th>\n",
       "      <td>cheers</td>\n",
       "      <td>11.0</td>\n",
       "    </tr>\n",
       "    <tr>\n",
       "      <th>6972</th>\n",
       "      <td>stargate sg-1</td>\n",
       "      <td>10.0</td>\n",
       "    </tr>\n",
       "    <tr>\n",
       "      <th>6645</th>\n",
       "      <td>the walking dead</td>\n",
       "      <td>10.0</td>\n",
       "    </tr>\n",
       "  </tbody>\n",
       "</table>\n",
       "</div>"
      ],
      "text/plain": [
       "                       title  duration_int\n",
       "6697          grey's anatomy          17.0\n",
       "7987                    ncis          15.0\n",
       "1971            supernatural          15.0\n",
       "6884               heartland          13.0\n",
       "7816  comedians of the world          13.0\n",
       "8164          criminal minds          12.0\n",
       "8024       trailer park boys          12.0\n",
       "8391                  cheers          11.0\n",
       "6972           stargate sg-1          10.0\n",
       "6645        the walking dead          10.0"
      ]
     },
     "execution_count": 62,
     "metadata": {},
     "output_type": "execute_result"
    }
   ],
   "source": [
    "df[df['duration_type'] == 'Seasons'].sort_values(by='duration_int', ascending=False)[['title', 'duration_int']].head(10)"
   ]
  },
  {
   "cell_type": "markdown",
   "metadata": {},
   "source": [
    "## Analyze Ratings Distribution (TV-MA, PG-13, etc.)"
   ]
  },
  {
   "cell_type": "markdown",
   "metadata": {},
   "source": []
  },
  {
   "cell_type": "code",
   "execution_count": null,
   "metadata": {},
   "outputs": [
    {
     "ename": "NameError",
     "evalue": "name 'df' is not defined",
     "output_type": "error",
     "traceback": [
      "\u001b[31m---------------------------------------------------------------------------\u001b[39m",
      "\u001b[31mNameError\u001b[39m                                 Traceback (most recent call last)",
      "\u001b[36mCell\u001b[39m\u001b[36m \u001b[39m\u001b[32mIn[3]\u001b[39m\u001b[32m, line 1\u001b[39m\n\u001b[32m----> \u001b[39m\u001b[32m1\u001b[39m df[\u001b[33m'\u001b[39m\u001b[33mrating\u001b[39m\u001b[33m'\u001b[39m] = \u001b[43mdf\u001b[49m[\u001b[33m'\u001b[39m\u001b[33mrating\u001b[39m\u001b[33m'\u001b[39m].fillna(\u001b[33m'\u001b[39m\u001b[33mUnknown\u001b[39m\u001b[33m'\u001b[39m)\n\u001b[32m      2\u001b[39m rating_counts = df[\u001b[33m'\u001b[39m\u001b[33mrating\u001b[39m\u001b[33m'\u001b[39m].value_counts().head(\u001b[32m10\u001b[39m)\n\u001b[32m      3\u001b[39m rating_counts\n",
      "\u001b[31mNameError\u001b[39m: name 'df' is not defined"
     ]
    }
   ],
   "source": []
  },
  {
   "cell_type": "markdown",
   "metadata": {},
   "source": [
    "## Explore Most Popular Genres (listed_in column)"
   ]
  },
  {
   "cell_type": "code",
   "execution_count": null,
   "metadata": {},
   "outputs": [],
   "source": []
  },
  {
   "cell_type": "markdown",
   "metadata": {},
   "source": [
    "## Explode the listed_in genres into separate rows in Python"
   ]
  },
  {
   "cell_type": "code",
   "execution_count": null,
   "metadata": {},
   "outputs": [
    {
     "data": {
      "text/html": [
       "<div>\n",
       "<style scoped>\n",
       "    .dataframe tbody tr th:only-of-type {\n",
       "        vertical-align: middle;\n",
       "    }\n",
       "\n",
       "    .dataframe tbody tr th {\n",
       "        vertical-align: top;\n",
       "    }\n",
       "\n",
       "    .dataframe thead th {\n",
       "        text-align: right;\n",
       "    }\n",
       "</style>\n",
       "<table border=\"1\" class=\"dataframe\">\n",
       "  <thead>\n",
       "    <tr style=\"text-align: right;\">\n",
       "      <th></th>\n",
       "      <th>title</th>\n",
       "      <th>genre</th>\n",
       "    </tr>\n",
       "  </thead>\n",
       "  <tbody>\n",
       "    <tr>\n",
       "      <th>0</th>\n",
       "      <td>dick johnson is dead</td>\n",
       "      <td>Documentaries</td>\n",
       "    </tr>\n",
       "    <tr>\n",
       "      <th>1</th>\n",
       "      <td>ganglands</td>\n",
       "      <td>Crime TV Shows</td>\n",
       "    </tr>\n",
       "    <tr>\n",
       "      <th>1</th>\n",
       "      <td>ganglands</td>\n",
       "      <td>International TV Shows</td>\n",
       "    </tr>\n",
       "    <tr>\n",
       "      <th>1</th>\n",
       "      <td>ganglands</td>\n",
       "      <td>TV Action &amp; Adventure</td>\n",
       "    </tr>\n",
       "    <tr>\n",
       "      <th>2</th>\n",
       "      <td>midnight mass</td>\n",
       "      <td>TV Dramas</td>\n",
       "    </tr>\n",
       "  </tbody>\n",
       "</table>\n",
       "</div>"
      ],
      "text/plain": [
       "                  title                   genre\n",
       "0  dick johnson is dead           Documentaries\n",
       "1             ganglands          Crime TV Shows\n",
       "1             ganglands  International TV Shows\n",
       "1             ganglands   TV Action & Adventure\n",
       "2         midnight mass               TV Dramas"
      ]
     },
     "execution_count": 65,
     "metadata": {},
     "output_type": "execute_result"
    }
   ],
   "source": [
    "genre_df = df.copy()\n",
    "genre_df = genre_df.dropna(subset=['listed_in'])\n",
    "genre_df['listed_in'] = genre_df['listed_in'].apply(lambda x: [genre.strip() for genre in x.split(',')])\n",
    "genre_df = genre_df.explode('listed_in')\n",
    "genre_df.rename(columns={'listed_in': 'genre'}, inplace=True)\n",
    "genre_df[['title', 'genre']].head()"
   ]
  },
  {
   "cell_type": "code",
   "execution_count": null,
   "metadata": {},
   "outputs": [],
   "source": []
  },
  {
   "cell_type": "markdown",
   "metadata": {},
   "source": [
    "## Export the cleaned genre dataset"
   ]
  },
  {
   "cell_type": "code",
   "execution_count": null,
   "metadata": {},
   "outputs": [],
   "source": [
    "# Export exploded genre dataset\n",
    "genre_df.to_csv(\"netflix_genres.csv\", index=False)\n"
   ]
  },
  {
   "cell_type": "markdown",
   "metadata": {},
   "source": []
  }
 ],
 "metadata": {
  "kernelspec": {
   "display_name": "Python 3",
   "language": "python",
   "name": "python3"
  },
  "language_info": {
   "codemirror_mode": {
    "name": "ipython",
    "version": 3
   },
   "file_extension": ".py",
   "mimetype": "text/x-python",
   "name": "python",
   "nbconvert_exporter": "python",
   "pygments_lexer": "ipython3",
   "version": "3.13.2"
  }
 },
 "nbformat": 4,
 "nbformat_minor": 2
}
